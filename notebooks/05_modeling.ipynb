{
 "cells": [
  {
   "cell_type": "markdown",
   "metadata": {},
   "source": [
    "# Modeling"
   ]
  },
  {
   "cell_type": "markdown",
   "metadata": {},
   "source": [
    "## Importando bibliotecas"
   ]
  },
  {
   "cell_type": "code",
   "execution_count": null,
   "metadata": {},
   "outputs": [],
   "source": [
    "import pickle\n",
    "import pathlib\n",
    "import pandas as pd\n",
    "import numpy as np\n",
    "from sklearn.model_selection import train_test_split, cross_val_score, GridSearchCV\n",
    "from sklearn.metrics import mean_squared_error, make_scorer\n",
    "from sklearn.linear_model import LinearRegression\n",
    "from sklearn.ensemble import RandomForestRegressor, GradientBoostingRegressor"
   ]
  },
  {
   "cell_type": "markdown",
   "metadata": {},
   "source": [
    "## Preparando os dados"
   ]
  },
  {
   "cell_type": "code",
   "execution_count": 42,
   "metadata": {},
   "outputs": [],
   "source": [
    "DATA_DIR = pathlib.Path.cwd().parent / 'data'\n",
    "clean_data_path = DATA_DIR / 'processed' / 'ames_clean.pkl'\n",
    "with open(clean_data_path, 'rb') as file:\n",
    "    data = pickle.load(file)"
   ]
  },
  {
   "cell_type": "code",
   "execution_count": 43,
   "metadata": {},
   "outputs": [
    {
     "data": {
      "text/html": [
       "<div>\n",
       "<style scoped>\n",
       "    .dataframe tbody tr th:only-of-type {\n",
       "        vertical-align: middle;\n",
       "    }\n",
       "\n",
       "    .dataframe tbody tr th {\n",
       "        vertical-align: top;\n",
       "    }\n",
       "\n",
       "    .dataframe thead th {\n",
       "        text-align: right;\n",
       "    }\n",
       "</style>\n",
       "<table border=\"1\" class=\"dataframe\">\n",
       "  <thead>\n",
       "    <tr style=\"text-align: right;\">\n",
       "      <th></th>\n",
       "      <th>MS.SubClass</th>\n",
       "      <th>MS.Zoning</th>\n",
       "      <th>Lot.Frontage</th>\n",
       "      <th>Lot.Area</th>\n",
       "      <th>Lot.Shape</th>\n",
       "      <th>Land.Contour</th>\n",
       "      <th>Lot.Config</th>\n",
       "      <th>Land.Slope</th>\n",
       "      <th>Neighborhood</th>\n",
       "      <th>Bldg.Type</th>\n",
       "      <th>...</th>\n",
       "      <th>Sale.Type</th>\n",
       "      <th>Sale.Condition</th>\n",
       "      <th>SalePrice</th>\n",
       "      <th>Condition</th>\n",
       "      <th>HasShed</th>\n",
       "      <th>HasAlley</th>\n",
       "      <th>Exterior</th>\n",
       "      <th>Garage.Age</th>\n",
       "      <th>Remod.Age</th>\n",
       "      <th>House.Age</th>\n",
       "    </tr>\n",
       "  </thead>\n",
       "  <tbody>\n",
       "    <tr>\n",
       "      <th>0</th>\n",
       "      <td>20</td>\n",
       "      <td>RL</td>\n",
       "      <td>141.0</td>\n",
       "      <td>31770.0</td>\n",
       "      <td>IR1</td>\n",
       "      <td>Lvl</td>\n",
       "      <td>Corner</td>\n",
       "      <td>Gtl</td>\n",
       "      <td>NAmes</td>\n",
       "      <td>1Fam</td>\n",
       "      <td>...</td>\n",
       "      <td>GroupedWD</td>\n",
       "      <td>Normal</td>\n",
       "      <td>5.332438</td>\n",
       "      <td>Norm</td>\n",
       "      <td>False</td>\n",
       "      <td>False</td>\n",
       "      <td>BrkFace</td>\n",
       "      <td>50.0</td>\n",
       "      <td>50.0</td>\n",
       "      <td>50.0</td>\n",
       "    </tr>\n",
       "    <tr>\n",
       "      <th>1</th>\n",
       "      <td>20</td>\n",
       "      <td>RH</td>\n",
       "      <td>80.0</td>\n",
       "      <td>11622.0</td>\n",
       "      <td>Reg</td>\n",
       "      <td>Lvl</td>\n",
       "      <td>Inside</td>\n",
       "      <td>Gtl</td>\n",
       "      <td>NAmes</td>\n",
       "      <td>1Fam</td>\n",
       "      <td>...</td>\n",
       "      <td>GroupedWD</td>\n",
       "      <td>Normal</td>\n",
       "      <td>5.021189</td>\n",
       "      <td>Roads</td>\n",
       "      <td>False</td>\n",
       "      <td>False</td>\n",
       "      <td>VinylSd</td>\n",
       "      <td>49.0</td>\n",
       "      <td>49.0</td>\n",
       "      <td>49.0</td>\n",
       "    </tr>\n",
       "    <tr>\n",
       "      <th>2</th>\n",
       "      <td>20</td>\n",
       "      <td>RL</td>\n",
       "      <td>81.0</td>\n",
       "      <td>14267.0</td>\n",
       "      <td>IR1</td>\n",
       "      <td>Lvl</td>\n",
       "      <td>Corner</td>\n",
       "      <td>Gtl</td>\n",
       "      <td>NAmes</td>\n",
       "      <td>1Fam</td>\n",
       "      <td>...</td>\n",
       "      <td>GroupedWD</td>\n",
       "      <td>Normal</td>\n",
       "      <td>5.235528</td>\n",
       "      <td>Norm</td>\n",
       "      <td>False</td>\n",
       "      <td>False</td>\n",
       "      <td>Wd Sdng</td>\n",
       "      <td>52.0</td>\n",
       "      <td>52.0</td>\n",
       "      <td>52.0</td>\n",
       "    </tr>\n",
       "    <tr>\n",
       "      <th>3</th>\n",
       "      <td>20</td>\n",
       "      <td>RL</td>\n",
       "      <td>93.0</td>\n",
       "      <td>11160.0</td>\n",
       "      <td>Reg</td>\n",
       "      <td>Lvl</td>\n",
       "      <td>Corner</td>\n",
       "      <td>Gtl</td>\n",
       "      <td>NAmes</td>\n",
       "      <td>1Fam</td>\n",
       "      <td>...</td>\n",
       "      <td>GroupedWD</td>\n",
       "      <td>Normal</td>\n",
       "      <td>5.387390</td>\n",
       "      <td>Norm</td>\n",
       "      <td>False</td>\n",
       "      <td>False</td>\n",
       "      <td>BrkFace</td>\n",
       "      <td>42.0</td>\n",
       "      <td>42.0</td>\n",
       "      <td>42.0</td>\n",
       "    </tr>\n",
       "    <tr>\n",
       "      <th>4</th>\n",
       "      <td>60</td>\n",
       "      <td>RL</td>\n",
       "      <td>74.0</td>\n",
       "      <td>13830.0</td>\n",
       "      <td>IR1</td>\n",
       "      <td>Lvl</td>\n",
       "      <td>Inside</td>\n",
       "      <td>Gtl</td>\n",
       "      <td>Gilbert</td>\n",
       "      <td>1Fam</td>\n",
       "      <td>...</td>\n",
       "      <td>GroupedWD</td>\n",
       "      <td>Normal</td>\n",
       "      <td>5.278525</td>\n",
       "      <td>Norm</td>\n",
       "      <td>False</td>\n",
       "      <td>False</td>\n",
       "      <td>VinylSd</td>\n",
       "      <td>13.0</td>\n",
       "      <td>12.0</td>\n",
       "      <td>13.0</td>\n",
       "    </tr>\n",
       "  </tbody>\n",
       "</table>\n",
       "<p>5 rows × 70 columns</p>\n",
       "</div>"
      ],
      "text/plain": [
       "  MS.SubClass MS.Zoning  Lot.Frontage  Lot.Area Lot.Shape Land.Contour  \\\n",
       "0          20        RL         141.0   31770.0       IR1          Lvl   \n",
       "1          20        RH          80.0   11622.0       Reg          Lvl   \n",
       "2          20        RL          81.0   14267.0       IR1          Lvl   \n",
       "3          20        RL          93.0   11160.0       Reg          Lvl   \n",
       "4          60        RL          74.0   13830.0       IR1          Lvl   \n",
       "\n",
       "  Lot.Config Land.Slope Neighborhood Bldg.Type  ...  Sale.Type Sale.Condition  \\\n",
       "0     Corner        Gtl        NAmes      1Fam  ...  GroupedWD         Normal   \n",
       "1     Inside        Gtl        NAmes      1Fam  ...  GroupedWD         Normal   \n",
       "2     Corner        Gtl        NAmes      1Fam  ...  GroupedWD         Normal   \n",
       "3     Corner        Gtl        NAmes      1Fam  ...  GroupedWD         Normal   \n",
       "4     Inside        Gtl      Gilbert      1Fam  ...  GroupedWD         Normal   \n",
       "\n",
       "  SalePrice Condition HasShed  HasAlley Exterior Garage.Age Remod.Age  \\\n",
       "0  5.332438      Norm   False     False  BrkFace       50.0      50.0   \n",
       "1  5.021189     Roads   False     False  VinylSd       49.0      49.0   \n",
       "2  5.235528      Norm   False     False  Wd Sdng       52.0      52.0   \n",
       "3  5.387390      Norm   False     False  BrkFace       42.0      42.0   \n",
       "4  5.278525      Norm   False     False  VinylSd       13.0      12.0   \n",
       "\n",
       "  House.Age  \n",
       "0      50.0  \n",
       "1      49.0  \n",
       "2      52.0  \n",
       "3      42.0  \n",
       "4      13.0  \n",
       "\n",
       "[5 rows x 70 columns]"
      ]
     },
     "execution_count": 43,
     "metadata": {},
     "output_type": "execute_result"
    }
   ],
   "source": [
    "data.head()"
   ]
  },
  {
   "cell_type": "code",
   "execution_count": 44,
   "metadata": {},
   "outputs": [],
   "source": [
    "X = data.drop('SalePrice', axis=1) # features\n",
    "Y = data['SalePrice'] # target"
   ]
  },
  {
   "cell_type": "code",
   "execution_count": 45,
   "metadata": {},
   "outputs": [],
   "source": [
    "X_modelo = pd.get_dummies(X, drop_first=True).copy()"
   ]
  },
  {
   "cell_type": "markdown",
   "metadata": {},
   "source": [
    "## Train Test Split"
   ]
  },
  {
   "cell_type": "code",
   "execution_count": 46,
   "metadata": {},
   "outputs": [],
   "source": [
    "X_train, X_test, Y_train, Y_test = train_test_split(\n",
    "    X_modelo,\n",
    "    Y,\n",
    "    test_size=0.2,\n",
    "    random_state=42,\n",
    ")"
   ]
  },
  {
   "cell_type": "markdown",
   "metadata": {},
   "source": [
    "## Modelos - Treinamento (Escolha de modelos e hiperparâmetros)"
   ]
  },
  {
   "cell_type": "markdown",
   "metadata": {},
   "source": [
    "### 1 - Regressão Linear"
   ]
  },
  {
   "cell_type": "code",
   "execution_count": 47,
   "metadata": {},
   "outputs": [],
   "source": [
    "# Inicializar o modelo de Regressão Linear\n",
    "modelo_linear = LinearRegression()\n",
    "\n",
    "# Ajustar o modelo aos dados de treinamento\n",
    "modelo_linear.fit(X_train, Y_train)\n",
    "\n",
    "# Função de scoring personalizada usando o Erro Médio Quadrático (MSE)\n",
    "scoring = make_scorer(mean_squared_error, greater_is_better=False)\n",
    "\n",
    "# Realizar validação cruzada com 5 divisões usando o MSE negativo como métrica\n",
    "scores_cv = cross_val_score(modelo_linear, X_modelo, Y, cv=5, scoring=scoring)"
   ]
  },
  {
   "cell_type": "markdown",
   "metadata": {},
   "source": [
    "### 2 - Random Forest Regressor"
   ]
  },
  {
   "cell_type": "code",
   "execution_count": 48,
   "metadata": {},
   "outputs": [
    {
     "name": "stdout",
     "output_type": "stream",
     "text": [
      "Fitting 3 folds for each of 216 candidates, totalling 648 fits\n",
      "Melhores Hiperparâmetros: {'bootstrap': True, 'max_depth': 20, 'min_samples_leaf': 1, 'min_samples_split': 2, 'n_estimators': 300}\n"
     ]
    }
   ],
   "source": [
    "# Inicializar o modelo Random Forest Regressor\n",
    "modelo_rf = RandomForestRegressor(random_state=42)\n",
    "\n",
    "# Definir o grid de parâmetros para ajuste do modelo\n",
    "grid_parametros_rf = {\n",
    "    'n_estimators': [100, 200, 300],    # Número de árvores na floresta\n",
    "    'max_depth': [10, 20, 30, None],   # Profundidade máxima das árvores\n",
    "    'min_samples_split': [2, 5, 10],   # Mínimo de amostras para dividir um nó\n",
    "    'min_samples_leaf': [1, 2, 4],     # Mínimo de amostras em uma folha\n",
    "    'bootstrap': [True, False],        # Usar ou não amostras bootstrap\n",
    "}\n",
    "\n",
    "# Inicializar o GridSearchCV para busca de hiperparâmetros\n",
    "busca_grid_rf = GridSearchCV(estimator=modelo_rf, param_grid=grid_parametros_rf, cv=3, \n",
    "                             scoring='neg_mean_squared_error', n_jobs=-1, verbose=2)\n",
    "\n",
    "# Ajustar o GridSearchCV aos dados de treinamento\n",
    "busca_grid_rf.fit(X_train, Y_train)\n",
    "\n",
    "# Recuperar o melhor modelo e seus hiperparâmetros\n",
    "melhor_modelo_rf = busca_grid_rf.best_estimator_\n",
    "print(\"Melhores Hiperparâmetros:\", busca_grid_rf.best_params_)"
   ]
  },
  {
   "cell_type": "markdown",
   "metadata": {},
   "source": [
    "### 3 - Gradient Boosting Regressor"
   ]
  },
  {
   "cell_type": "code",
   "execution_count": 49,
   "metadata": {},
   "outputs": [
    {
     "name": "stdout",
     "output_type": "stream",
     "text": [
      "Fitting 3 folds for each of 54 candidates, totalling 162 fits\n",
      "Melhores Hiperparâmetros: {'learning_rate': 0.1, 'max_depth': 3, 'n_estimators': 300, 'subsample': 0.8}\n"
     ]
    }
   ],
   "source": [
    "# Inicializar o modelo Gradient Boosting Regressor\n",
    "modelo_boosting = GradientBoostingRegressor()\n",
    "\n",
    "# Definir o grid de parâmetros para ajuste do modelo\n",
    "grid_parametros = {\n",
    "    'n_estimators': [100, 200, 300],   # Número de árvores no modelo\n",
    "    'learning_rate': [0.01, 0.1, 0.2], # Taxa de aprendizado\n",
    "    'max_depth': [3, 5, 7],            # Profundidade máxima das árvores\n",
    "    'subsample': [0.8, 1.0],           # Fração dos dados usada em cada árvore\n",
    "}\n",
    "\n",
    "# Inicializar o GridSearchCV para busca de hiperparâmetros\n",
    "busca_grid = GridSearchCV(estimator=modelo_boosting, param_grid=grid_parametros, cv=3, \n",
    "                          scoring='neg_mean_squared_error', n_jobs=-1, verbose=2)\n",
    "\n",
    "# Ajustar o GridSearchCV aos dados de treinamento\n",
    "busca_grid.fit(X_train, Y_train)\n",
    "\n",
    "# Recuperar o melhor modelo e seus hiperparâmetros\n",
    "melhor_modelo_boosting = busca_grid.best_estimator_\n",
    "print(\"Melhores Hiperparâmetros:\", busca_grid.best_params_)"
   ]
  },
  {
   "cell_type": "markdown",
   "metadata": {},
   "source": [
    "## Predição - Testando os modelos"
   ]
  },
  {
   "cell_type": "markdown",
   "metadata": {},
   "source": [
    "### 1 - Regressão Linear"
   ]
  },
  {
   "cell_type": "code",
   "execution_count": 50,
   "metadata": {},
   "outputs": [
    {
     "name": "stdout",
     "output_type": "stream",
     "text": [
      "MSE: 0.003134 | RMSE: 0.055982\n"
     ]
    }
   ],
   "source": [
    "# Calcular o MSE médio dos resultados da validação cruzada (invertendo o sinal porque usamos MSE negativo)\n",
    "mean_mse = -scores_cv.mean()\n",
    "\n",
    "# Calcular o RMSE a partir do MSE (tira-se a raiz quadrada do MSE)\n",
    "rsme_ = np.sqrt(mean_mse)\n",
    "print(f\"MSE: {mean_mse:.6f} | RMSE: {rsme_:.6f}\")"
   ]
  },
  {
   "cell_type": "code",
   "execution_count": 51,
   "metadata": {},
   "outputs": [
    {
     "name": "stdout",
     "output_type": "stream",
     "text": [
      "Erro médio: 13.76%\n"
     ]
    }
   ],
   "source": [
    "# Calcular o erro percentual médio com base no RMSE\n",
    "erro = 100 * (10**rsme_ - 1)\n",
    "print(f'Erro médio: {erro:.2f}%')"
   ]
  },
  {
   "cell_type": "markdown",
   "metadata": {},
   "source": [
    "### 2 - Random Forest Regressor"
   ]
  },
  {
   "cell_type": "code",
   "execution_count": 52,
   "metadata": {},
   "outputs": [
    {
     "name": "stdout",
     "output_type": "stream",
     "text": [
      "MSE: 0.003387 | RMSE: 0.058202\n"
     ]
    }
   ],
   "source": [
    "# Gerar predições no conjunto de teste usando o melhor modelo de Random Forest\n",
    "y_pred_rf = melhor_modelo_rf.predict(X_test)\n",
    "\n",
    "# Calcular o MSE comparando as predições com os valores reais\n",
    "mse_rf = mean_squared_error(Y_test, y_pred_rf)\n",
    "\n",
    "# Calcular o RMSE com base no MSE\n",
    "rsme_ = np.sqrt(mse_rf)\n",
    "print(f\"MSE: {mse_rf:.6f} | RMSE: {rsme_:.6f}\")"
   ]
  },
  {
   "cell_type": "code",
   "execution_count": 53,
   "metadata": {},
   "outputs": [
    {
     "name": "stdout",
     "output_type": "stream",
     "text": [
      "Erro médio: 14.34%\n"
     ]
    }
   ],
   "source": [
    "# Calcular o erro percentual médio com base no RMSE\n",
    "erro = 100 * (10**rsme_ - 1)\n",
    "print(f'Erro médio: {erro:.2f}%')"
   ]
  },
  {
   "cell_type": "markdown",
   "metadata": {},
   "source": [
    "### 3 - Gradient Boosting Regressor"
   ]
  },
  {
   "cell_type": "code",
   "execution_count": 54,
   "metadata": {},
   "outputs": [
    {
     "name": "stdout",
     "output_type": "stream",
     "text": [
      "MSE: 0.002734 | RMSE: 0.052291\n"
     ]
    }
   ],
   "source": [
    "# Gerar predições no conjunto de teste usando o melhor modelo de Gradient Boosting\n",
    "y_pred = melhor_modelo_boosting.predict(X_test)\n",
    "\n",
    "# Calcular o MSE comparando as predições com os valores reais\n",
    "mse = mean_squared_error(Y_test, y_pred)\n",
    "\n",
    "# Calcular o RMSE com base no MSE\n",
    "rsme_ = np.sqrt(mse)\n",
    "print(f\"MSE: {mse:.6f} | RMSE: {rsme_:.6f}\")"
   ]
  },
  {
   "cell_type": "code",
   "execution_count": 55,
   "metadata": {},
   "outputs": [
    {
     "name": "stdout",
     "output_type": "stream",
     "text": [
      "Erro médio: 12.80%\n"
     ]
    }
   ],
   "source": [
    "# Calcular o erro percentual médio com base no RMSE\n",
    "erro = 100 * (10**rsme_ - 1)\n",
    "print(f'Erro médio: {erro:.2f}%')"
   ]
  },
  {
   "cell_type": "markdown",
   "metadata": {},
   "source": [
    "## Escolha do melhor modelo (para este caso)"
   ]
  },
  {
   "cell_type": "markdown",
   "metadata": {},
   "source": [
    "Após a análise detalhada dos resultados obtidos com os três modelos de regressão, o **Gradient Boosting Regressor** foi escolhido como a opção mais adequada para este projeto, devido ao seu desempenho consistente e superior nas principais métricas de avaliação. Abaixo, apresentamos uma tabela com os valores comparativos de MSE (Mean Squared Error), RMSE (Root Mean Squared Error) e erro percentual para cada modelo:"
   ]
  },
  {
   "cell_type": "markdown",
   "metadata": {},
   "source": [
    "Index | Modelo | MSE | RMSE | Error |\n",
    "--- | --- | --- | --- | --- |\n",
    " 1 | Regressão Linear | 0.003134 | 0.055982 | 13.76% |\n",
    " 2 | Random Forest Regressor | 0.003387 | 0.058202 | 14.34% |\n",
    " 3 | Gradient Boosting Regressor | 0.002734 | 0.052291 | 12.80% |"
   ]
  },
  {
   "cell_type": "markdown",
   "metadata": {},
   "source": [
    "### Justificativa para a Escolha do Gradient Boosting Regressor:\n",
    "\n",
    "1. **Menor MSE (Mean Squared Error)**  \n",
    "   O Gradient Boosting Regressor apresentou o menor MSE entre os modelos analisados, com um valor de **0.002734**. Isso indica que, em média, os erros ao quadrado foram os menores, sugerindo maior precisão do modelo nas predições.\n",
    "\n",
    "2. **Menor RMSE (Root Mean Squared Error)**  \n",
    "   O RMSE, que mede o desvio médio das predições em relação aos valores reais, foi de **0.052291** para o Gradient Boosting Regressor, demonstrando menor dispersão nos erros quando comparado aos demais modelos.\n",
    "\n",
    "3. **Erro Percentual Mais Baixo**  \n",
    "   O Gradient Boosting Regressor também apresentou o menor erro percentual, com um valor de **12.80%**, superando a Regressão Linear (**13.76%**) e o Random Forest Regressor (**14.34%**). Isso reflete sua maior precisão em relação às outras abordagens.\n",
    "\n",
    "4. **Equilíbrio entre Complexidade e Desempenho**  \n",
    "   Embora modelos como a Regressão Linear sejam mais simples e fáceis de implementar, e o Random Forest Regressor ofereça boa precisão, o Gradient Boosting Regressor se destacou por equilibrar a complexidade com um desempenho superior. Ele combina múltiplos modelos base de maneira otimizada, capturando nuances nos dados que os outros modelos não foram capazes de aproveitar.\n",
    "\n",
    "---\n",
    "\n",
    "### Conclusão:\n",
    "Com base nos resultados das métricas analisadas, o **Gradient Boosting Regressor** foi selecionado como o modelo mais adequado para o projeto. Ele oferece o melhor equilíbrio entre precisão, robustez e capacidade de generalização, tornando-o a escolha ideal para garantir previsões confiáveis e um desempenho consistente."
   ]
  },
  {
   "cell_type": "markdown",
   "metadata": {},
   "source": [
    "## Importância das Features e Suas Implicações  "
   ]
  },
  {
   "cell_type": "markdown",
   "metadata": {},
   "source": [
    "A análise das features mais importantes identificadas pelo **Gradient Boosting Regressor** ajuda a compreender quais fatores têm maior impacto no preço dos imóveis. Isso é crucial para orientar tanto a modelagem quanto as decisões de negócios. Para visualizar as importâncias, organizamos as features em ordem decrescente de relevância e destacamos as 10 mais significativas.  "
   ]
  },
  {
   "cell_type": "code",
   "execution_count": 59,
   "metadata": {},
   "outputs": [
    {
     "name": "stdout",
     "output_type": "stream",
     "text": [
      "Top 10 Features Mais Importantes:\n",
      "               Importância\n",
      "House.Age         0.245621\n",
      "Gr.Liv.Area       0.219310\n",
      "Garage.Cars       0.074036\n",
      "Total.Bsmt.SF     0.058891\n",
      "Exter.Qual_TA     0.053520\n",
      "Fireplaces        0.036934\n",
      "X1st.Flr.SF       0.035347\n",
      "Garage.Area       0.031935\n",
      "BsmtFin.SF.1      0.025542\n",
      "Remod.Age         0.025011\n"
     ]
    }
   ],
   "source": [
    "# Criação de um DataFrame para armazenar as importâncias das features\n",
    "importancias = pd.DataFrame({'Importância': melhor_modelo_boosting.feature_importances_}, index=X_train.columns)\n",
    "\n",
    "# Ordenação das features pela importância\n",
    "importancias_ordenadas = importancias.sort_values('Importância', ascending=False)\n",
    "\n",
    "# Seleção das 10 features mais importantes\n",
    "top_10_importantes = importancias_ordenadas.head(10)\n",
    "print(\"Top 10 Features Mais Importantes:\")\n",
    "print(top_10_importantes)"
   ]
  },
  {
   "cell_type": "markdown",
   "metadata": {},
   "source": [
    "A seguir, analisamos as duas principais features e suas implicações para a aplicação de negócios:  \n"
   ]
  },
  {
   "cell_type": "markdown",
   "metadata": {},
   "source": [
    "#### **1. House.Age (Idade da Casa)**  \n",
    "- **Importância:** 0.245621  \n",
    "- **Implicações:**  \n",
    "  A idade da casa é a feature mais importante no modelo. Casas mais novas tendem a apresentar preços mais elevados, uma vez que demandam menos manutenção e costumam ser mais modernas. No contexto de negócios, isso indica uma oportunidade de focar em propriedades novas ou reformadas, que são mais atraentes para potenciais compradores. Além disso, realizar reformas em imóveis mais antigos pode ser uma estratégia eficaz para aumentar o preço de venda.\n",
    "\n",
    "#### **2. Gr.Liv.Area (Área Útil da Casa)**  \n",
    "- **Importância:** 0.219310  \n",
    "- **Implicações:**  \n",
    "  A área útil da casa, ou o espaço habitável em metros quadrados, é intuitivamente uma das principais determinantes do preço. Casas maiores frequentemente têm valores mais altos no mercado. Essa informação sugere que maximizar o espaço útil em imóveis, como por meio de reformas ou ampliações, pode agregar valor. Também pode orientar estratégias de marketing, como destacar o tamanho da área útil ao promover propriedades."
   ]
  },
  {
   "cell_type": "markdown",
   "metadata": {},
   "source": [
    "#### Exemplo de Dados: Feature **Remod.Age**  "
   ]
  },
  {
   "cell_type": "markdown",
   "metadata": {},
   "source": [
    "Abaixo, um exemplo dos valores da feature **Remod.Age** (Idade da última reforma), que também apareceu entre as 10 mais importantes:  "
   ]
  },
  {
   "cell_type": "code",
   "execution_count": 60,
   "metadata": {},
   "outputs": [
    {
     "data": {
      "text/plain": [
       "0       50.0\n",
       "1       49.0\n",
       "2       52.0\n",
       "3       42.0\n",
       "4       12.0\n",
       "        ... \n",
       "2925    22.0\n",
       "2926    23.0\n",
       "2927    14.0\n",
       "2928    31.0\n",
       "2929    12.0\n",
       "Name: Remod.Age, Length: 2877, dtype: float64"
      ]
     },
     "execution_count": 60,
     "metadata": {},
     "output_type": "execute_result"
    }
   ],
   "source": [
    "data[\"Remod.Age\"]"
   ]
  },
  {
   "cell_type": "markdown",
   "metadata": {},
   "source": [
    "### Consequências do Desempenho do Modelo Final para a Aplicação de Negócios  \n",
    "\n",
    "Os insights derivados das features mais importantes podem direcionar ações estratégicas para melhorar o valor das propriedades e otimizar esforços de marketing e vendas.  \n",
    "\n",
    "#### Principais Consequências:  \n",
    "\n",
    "1. **Imóveis Novos ou Reformados**  \n",
    "   A idade da casa e da última reforma têm grande impacto no preço. Isso indica que reformar imóveis antigos ou investir em propriedades novas pode trazer um retorno financeiro significativo.  \n",
    "\n",
    "2. **Maximização de Espaços**  \n",
    "   Features relacionadas ao espaço, como **Gr.Liv.Area** e **Total.Bsmt.SF**, mostram que propriedades maiores ou com espaços bem utilizados tendem a ter maior valor de mercado. Reformas que aumentem a área útil, como a conversão de porões em espaços habitáveis, podem agregar valor considerável.  \n",
    "\n",
    "3. **Comodidades Valorizadas**  \n",
    "   Features como **Garage.Cars** (vagas na garagem) e **Fireplaces** (lareiras) também se destacam. Incorporar ou melhorar essas comodidades pode justificar preços mais altos e tornar as propriedades mais atrativas para os compradores.  \n",
    "\n",
    "4. **Qualidade da Construção e Aparência Externa**  \n",
    "   A qualidade da construção e a aparência externa, representadas por features como **Exter.Qual_TA**, também são cruciais. Investir na melhoria do exterior das casas pode aumentar o valor percebido pelos compradores e acelerar as vendas.\n",
    "     \n",
    "\n",
    "---"
   ]
  },
  {
   "cell_type": "markdown",
   "metadata": {},
   "source": [
    "### Conclusão:  \n",
    "\n",
    "De maneira geral, as features mais importantes sugerem que o valor dos imóveis em Ames, Iowa, é fortemente influenciado por fatores como idade, espaço útil, comodidades e qualidade da construção. Esses insights podem ser usados para:  \n",
    "- Planejar melhorias em propriedades antigas;  \n",
    "- Estruturar estratégias de marketing que destacam os pontos mais valorizados pelos compradores;  \n",
    "- Ajustar preços com base em características específicas dos imóveis.  \n",
    "\n",
    "Essa análise permite decisões mais informadas e aumenta a eficácia na comercialização dos imóveis, maximizando o retorno financeiro para os envolvidos."
   ]
  },
  {
   "cell_type": "markdown",
   "metadata": {},
   "source": [
    "---"
   ]
  }
 ],
 "metadata": {
  "kernelspec": {
   "display_name": ".venv",
   "language": "python",
   "name": "python3"
  },
  "language_info": {
   "codemirror_mode": {
    "name": "ipython",
    "version": 3
   },
   "file_extension": ".py",
   "mimetype": "text/x-python",
   "name": "python",
   "nbconvert_exporter": "python",
   "pygments_lexer": "ipython3",
   "version": "3.11.5"
  }
 },
 "nbformat": 4,
 "nbformat_minor": 2
}
